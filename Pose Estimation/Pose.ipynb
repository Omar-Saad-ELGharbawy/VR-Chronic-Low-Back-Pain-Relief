{
 "cells": [
  {
   "cell_type": "code",
   "execution_count": 1,
   "id": "b663d066",
   "metadata": {},
   "outputs": [],
   "source": [
    "import cv2\n",
    "import mediapipe as mp"
   ]
  },
  {
   "cell_type": "code",
   "execution_count": 2,
   "id": "bf4edfe5",
   "metadata": {},
   "outputs": [],
   "source": [
    "## initialize pose estimator\n",
    "mp_drawing = mp.solutions.drawing_utils\n",
    "mp_pose = mp.solutions.pose\n",
    "pose = mp_pose.Pose(min_detection_confidence=0.5, min_tracking_confidence=0.5)"
   ]
  },
  {
   "cell_type": "code",
   "execution_count": 3,
   "id": "361ee984",
   "metadata": {},
   "outputs": [],
   "source": [
    "import struct\n",
    "def return_bytes(pose_results):\n",
    "    lst = []\n",
    "    for i in range(33):\n",
    "        pt = pose_results.pose_landmarks.landmark[i]\n",
    "        lst.append(pt.x)\n",
    "        lst.append(pt.y)\n",
    "        lst.append(pt.z)\n",
    "        lst.append(pt.visibility)\n",
    "    return struct.pack('%sf' % len(lst), *lst)"
   ]
  },
  {
   "cell_type": "code",
   "execution_count": null,
   "id": "c8dfc142",
   "metadata": {},
   "outputs": [],
   "source": [
    "import socket\n",
    "\n",
    "HOST = '127.0.0.1'  # Standard loopback interface address (localhost)\n",
    "PORT = 10000        # Port to listen on (non-privileged ports are > 1023)\n",
    "\n",
    "s = socket.socket(socket.AF_INET, socket.SOCK_STREAM)\n",
    "s.bind((HOST, PORT))\n",
    "s.listen()\n",
    "\n",
    "conn, addr = s.accept()\n",
    "print('Connected by', addr)"
   ]
  },
  {
   "cell_type": "code",
   "execution_count": 4,
   "id": "7c43b19b",
   "metadata": {},
   "outputs": [],
   "source": [
    "import socket\n",
    "\n",
    "# Define server address and port\n",
    "HOST = '127.0.0.1'  # The server's hostname or IP address\n",
    "PORT = 11000        # The port used by the server\n",
    "\n",
    "s =  socket.socket(socket.AF_INET, socket.SOCK_DGRAM)\n"
   ]
  },
  {
   "cell_type": "code",
   "execution_count": 5,
   "id": "4409fde3",
   "metadata": {},
   "outputs": [],
   "source": [
    "cap = cv2.VideoCapture(0)\n",
    "while cap.isOpened():\n",
    "    # read frame\n",
    "    _, frame = cap.read()\n",
    "    try:\n",
    "        # resize the frame for portrait video\n",
    "        frame = cv2.resize(frame, (600,480))\n",
    "        # convert to RGB\n",
    "        frame_rgb = cv2.cvtColor(frame, cv2.COLOR_BGR2RGB)\n",
    "\n",
    "        # process the frame for pose detection\n",
    "        pose_results = pose.process(frame_rgb)\n",
    "        # print(pose_results.pose_landmarks)\n",
    "\n",
    "        #print(pose_results.pose_landmarks.landmark[0].x)\n",
    "        #conn.send(return_bytes(pose_results))\n",
    "        s.sendto(return_bytes(pose_results), (HOST, PORT))\n",
    "\n",
    "        # draw skeleton on the frame\n",
    "        mp_drawing.draw_landmarks(frame, pose_results.pose_landmarks, mp_pose.POSE_CONNECTIONS)\n",
    "        # display the frame\n",
    "        cv2.imshow('Output', frame)\n",
    "    except:\n",
    "        break\n",
    "\n",
    "    if cv2.waitKey(100) == ord('q'):\n",
    "        break\n",
    "\n",
    "cap.release()\n",
    "cv2.destroyAllWindows()"
   ]
  },
  {
   "cell_type": "code",
   "execution_count": null,
   "id": "8d090c65",
   "metadata": {},
   "outputs": [],
   "source": []
  }
 ],
 "metadata": {
  "kernelspec": {
   "display_name": "Python 3 (ipykernel)",
   "language": "python",
   "name": "python3"
  },
  "language_info": {
   "codemirror_mode": {
    "name": "ipython",
    "version": 3
   },
   "file_extension": ".py",
   "mimetype": "text/x-python",
   "name": "python",
   "nbconvert_exporter": "python",
   "pygments_lexer": "ipython3",
   "version": "3.11.5"
  }
 },
 "nbformat": 4,
 "nbformat_minor": 5
}
